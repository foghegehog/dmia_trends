{
 "cells": [
  {
   "cell_type": "markdown",
   "metadata": {},
   "source": [
    "## A model distinguishing images with dogs from images with cats.\n",
    "###### Completed as homework for Data Mining In Action free course (https://vk.com/data_mining_in_action), \"Trends\" direction, spring 2018\n",
    "###### Dataset is taken from Kaggle competition (https://www.kaggle.com/c/dogs-vs-cats-redux-kernels-edition)\n",
    "###### PyTorch (http://pytorch.org/) is used as Deep Learning framework"
   ]
  },
  {
   "cell_type": "markdown",
   "metadata": {},
   "source": [
    "Create Dataset class inheritor to load data the way PyTorch examples do (http://pytorch.org/tutorials/beginner/data_loading_tutorial.html#dataset-class) "
   ]
  },
  {
   "cell_type": "code",
   "execution_count": 1,
   "metadata": {
    "collapsed": true
   },
   "outputs": [],
   "source": [
    "from torch.utils.data import Dataset\n",
    "from PIL import Image\n",
    "\n",
    "class CatsDogsDataset(Dataset):\n",
    "    \n",
    "    def __init__(self, images_folder, filenames, image_size = None, transform=None):\n",
    "        self.images_folder = images_folder\n",
    "        self.filenames = filenames\n",
    "        self.image_size = image_size\n",
    "        self.transform = transform \n",
    "        \n",
    "    def __len__(self):\n",
    "        return len(self.filenames)\n",
    "    \n",
    "    def get_image(self, image_name):\n",
    "        image_path = os.path.join(self.images_folder, image_name)\n",
    "        image = Image.open(image_path)\n",
    "        \n",
    "        if (self.image_size):\n",
    "            image = image.resize(self.image_size)\n",
    "        \n",
    "        if (self.transform):\n",
    "            image = self.transform(image)\n",
    "            \n",
    "        return image"
   ]
  },
  {
   "cell_type": "code",
   "execution_count": 2,
   "metadata": {
    "collapsed": true
   },
   "outputs": [],
   "source": [
    "class CatsDogsLabeledDataset(CatsDogsDataset):\n",
    "    \n",
    "    def __init__(self, images_folder, filenames, image_size = None, transform=None):\n",
    "        super(CatsDogsLabeledDataset, self).__init__(images_folder, filenames, image_size, transform)\n",
    "    \n",
    "    @staticmethod\n",
    "    def is_dog(image_name):\n",
    "        return image_name.lower().startswith(\"dog.\")\n",
    "    \n",
    "    def __getitem__(self, indx):\n",
    "        image_name = self.filenames[indx]    \n",
    "        image = self.get_image(image_name)\n",
    "        label = int(CatsDogsLabeledDataset.is_dog(image_name))\n",
    "        \n",
    "        return [image, label]"
   ]
  },
  {
   "cell_type": "markdown",
   "metadata": {},
   "source": [
    "Split images in train folder into two datasets for model training and its validation"
   ]
  },
  {
   "cell_type": "code",
   "execution_count": 3,
   "metadata": {
    "collapsed": true
   },
   "outputs": [],
   "source": [
    "import os \n",
    "from random import shuffle\n",
    "\n",
    "train_folder = \"./train\"\n",
    "validation_dataset_size = 5000\n",
    "\n",
    "images = os.listdir(train_folder)\n",
    "\n",
    "shuffle(images)\n",
    "train_images = images[:-validation_dataset_size]\n",
    "validation_images = images[-validation_dataset_size:]"
   ]
  },
  {
   "cell_type": "markdown",
   "metadata": {},
   "source": [
    "Data transforms for neural network usage"
   ]
  },
  {
   "cell_type": "code",
   "execution_count": 4,
   "metadata": {},
   "outputs": [],
   "source": [
    "import torchvision.transforms as transforms\n",
    "from torch.utils.data import DataLoader\n",
    "\n",
    "image_size = 64\n",
    "\n",
    "transform = transforms.Compose(\n",
    "    [transforms.ToTensor(),\n",
    "     transforms.Normalize((0.5, 0.5, 0.5), (0.5, 0.5, 0.5))])"
   ]
  },
  {
   "cell_type": "markdown",
   "metadata": {},
   "source": [
    "Create train dataset and loader for it"
   ]
  },
  {
   "cell_type": "code",
   "execution_count": 5,
   "metadata": {
    "collapsed": true
   },
   "outputs": [],
   "source": [
    "batch_size = 4\n",
    "\n",
    "train_dataset = CatsDogsLabeledDataset(\n",
    "    train_folder,\n",
    "    train_images,\n",
    "    image_size = (image_size, image_size),\n",
    "    transform = transform)\n",
    "train_loader = DataLoader(train_dataset, batch_size=batch_size, shuffle=True, num_workers=2)"
   ]
  },
  {
   "cell_type": "markdown",
   "metadata": {},
   "source": [
    "Check correct loading and transforms"
   ]
  },
  {
   "cell_type": "code",
   "execution_count": 16,
   "metadata": {},
   "outputs": [
    {
     "name": "stdout",
     "output_type": "stream",
     "text": [
      "Cat\n",
      "image shape: torch.Size([3, 64, 64])\n"
     ]
    },
    {
     "data": {
      "image/png": "[encoded data removed]",
      "text/plain": [
       "<matplotlib.figure.Figure at 0x7fa11d76b5f8>"
      ]
     },
     "metadata": {},
     "output_type": "display_data"
    }
   ],
   "source": [
    "import matplotlib.pyplot as plt\n",
    "import numpy as np\n",
    "import torch\n",
    "\n",
    "%matplotlib inline\n",
    "\n",
    "# functions to show an image\n",
    "def imshow(img):\n",
    "    img = img / 2 + 0.5     # unnormalize\n",
    "    npimg = img.numpy()\n",
    "    img = np.transpose(npimg, (1, 2, 0))\n",
    "    plt.imshow(img)\n",
    "\n",
    "\n",
    "dataiter = iter(train_loader)\n",
    "images, labels = dataiter.next()\n",
    "image = images[0]\n",
    "label = labels[0]\n",
    "\n",
    "# show image\n",
    "imshow(image)\n",
    "print ([\"Cat\", \"Dog\"][label])\n",
    "print (\"image shape:\", image.size())"
   ]
  },
  {
   "cell_type": "markdown",
   "metadata": {
    "collapsed": true
   },
   "source": [
    "Declare convolution neural network similar to the PyTorch tutorial (http://pytorch.org/tutorials/beginner/blitz/cifar10_tutorial.html#define-a-convolution-neural-network)"
   ]
  },
  {
   "cell_type": "code",
   "execution_count": 7,
   "metadata": {
    "collapsed": true
   },
   "outputs": [],
   "source": [
    "from torch.autograd import Variable\n",
    "import torch.nn as nn\n",
    "from torch.nn import functional\n",
    "\n",
    "color_channels = 3\n",
    "kernel_size = 9\n",
    "pool_window = 2\n",
    "classes_count = 2\n",
    "\n",
    "class CNN(nn.Module):\n",
    "    def __init__(self):\n",
    "        super(CNN, self).__init__()\n",
    "        self.activation = functional.relu\n",
    "        self.conv1 = nn.Conv2d(color_channels, 6, kernel_size)\n",
    "        self.max_pool = nn.MaxPool2d(pool_window, pool_window)\n",
    "        self.conv2 = nn.Conv2d(self.conv1.out_channels, 32, kernel_size)\n",
    "        self.linear_in_features = self.conv2.out_channels * 10 * 10\n",
    "        self.fc1 = nn.Linear(self.linear_in_features, 120)\n",
    "        self.fc2 = nn.Linear(self.fc1.out_features, 84)\n",
    "        self.fc3 = nn.Linear(self.fc2.out_features, 1)\n",
    "\n",
    "    def forward(self, x):\n",
    "        #print(x.size())\n",
    "        layer_output = self.activation(self.conv1(x))\n",
    "        #print(layer_output.size())\n",
    "        layer_output = self.max_pool(layer_output)\n",
    "        #print(layer_output.size())\n",
    "        layer_output = self.activation(self.conv2(layer_output))\n",
    "        #print(layer_output.size())\n",
    "        layer_output = self.max_pool(layer_output)\n",
    "        #print(layer_output.size())\n",
    "        layer_output = layer_output.view(-1, self.linear_in_features)\n",
    "        #print(layer_output.size())\n",
    "        layer_output = self.activation(self.fc1(layer_output))\n",
    "        #print(layer_output.size())\n",
    "        layer_output = self.activation(self.fc2(layer_output))\n",
    "        #print(layer_output.size())\n",
    "        layer_output = self.fc3(layer_output)\n",
    "        #print(layer_output.size())\n",
    "        # Values from interval [0,1] are needed as answer\n",
    "        layer_output = functional.sigmoid(layer_output)\n",
    "        #print(layer_output.size())\n",
    "        return layer_output\n",
    "\n",
    "\n",
    "model = CNN()"
   ]
  },
  {
   "cell_type": "markdown",
   "metadata": {},
   "source": [
    "It looks like LogLoss function is called BCELoss in PyTorch (http://pytorch.org/docs/master/nn.html#bceloss) <br/>\n",
    "Used SGD with momentum optimizer, as in the tutorial"
   ]
  },
  {
   "cell_type": "code",
   "execution_count": 8,
   "metadata": {
    "collapsed": true
   },
   "outputs": [],
   "source": [
    "import torch.optim as optim\n",
    "\n",
    "criterion = nn.BCELoss(size_average=True)\n",
    "optimizer = optim.SGD(model.parameters(), lr=0.001, momentum=0.9)"
   ]
  },
  {
   "cell_type": "markdown",
   "metadata": {},
   "source": [
    "Train the network"
   ]
  },
  {
   "cell_type": "code",
   "execution_count": 9,
   "metadata": {},
   "outputs": [
    {
     "name": "stdout",
     "output_type": "stream",
     "text": [
      "[1,  1000] loss: 0.687\n",
      "[1,  2000] loss: 0.725\n",
      "[1,  3000] loss: 0.699\n",
      "[1,  4000] loss: 0.682\n",
      "[1,  5000] loss: 0.698\n",
      "[1,  6000] loss: 0.620\n",
      "[1,  7000] loss: 0.815\n",
      "[1,  8000] loss: 0.817\n",
      "[1,  9000] loss: 0.585\n",
      "[1, 10000] loss: 0.579\n",
      "[1, 11000] loss: 0.448\n",
      "[1, 12000] loss: 0.542\n",
      "[1, 13000] loss: 0.537\n",
      "[1, 14000] loss: 0.799\n",
      "[1, 15000] loss: 0.686\n",
      "[1, 16000] loss: 0.736\n",
      "[1, 17000] loss: 0.637\n",
      "[1, 18000] loss: 0.528\n",
      "[1, 19000] loss: 0.591\n",
      "[1, 20000] loss: 0.527\n",
      "[2,  1000] loss: 0.472\n",
      "[2,  2000] loss: 0.740\n",
      "[2,  3000] loss: 0.480\n",
      "[2,  4000] loss: 0.616\n",
      "[2,  5000] loss: 0.642\n",
      "[2,  6000] loss: 0.385\n",
      "[2,  7000] loss: 0.814\n",
      "[2,  8000] loss: 0.714\n",
      "[2,  9000] loss: 0.780\n",
      "[2, 10000] loss: 0.333\n",
      "[2, 11000] loss: 0.557\n",
      "[2, 12000] loss: 0.691\n",
      "[2, 13000] loss: 0.779\n",
      "[2, 14000] loss: 0.540\n",
      "[2, 15000] loss: 0.827\n",
      "[2, 16000] loss: 0.424\n",
      "[2, 17000] loss: 0.438\n",
      "[2, 18000] loss: 0.352\n",
      "[2, 19000] loss: 0.968\n",
      "[2, 20000] loss: 0.562\n",
      "[3,  1000] loss: 0.353\n",
      "[3,  2000] loss: 0.770\n",
      "[3,  3000] loss: 0.466\n",
      "[3,  4000] loss: 0.446\n",
      "[3,  5000] loss: 0.519\n",
      "[3,  6000] loss: 0.623\n",
      "[3,  7000] loss: 0.644\n",
      "[3,  8000] loss: 0.249\n",
      "[3,  9000] loss: 0.553\n",
      "[3, 10000] loss: 0.157\n",
      "[3, 11000] loss: 0.382\n",
      "[3, 12000] loss: 0.443\n",
      "[3, 13000] loss: 0.334\n",
      "[3, 14000] loss: 0.880\n",
      "[3, 15000] loss: 0.877\n",
      "[3, 16000] loss: 0.771\n",
      "[3, 17000] loss: 0.853\n",
      "[3, 18000] loss: 0.559\n",
      "[3, 19000] loss: 0.564\n",
      "[3, 20000] loss: 0.805\n",
      "[4,  1000] loss: 0.492\n",
      "[4,  2000] loss: 0.311\n",
      "[4,  3000] loss: 0.405\n",
      "[4,  4000] loss: 0.337\n",
      "[4,  5000] loss: 0.508\n",
      "[4,  6000] loss: 0.421\n",
      "[4,  7000] loss: 0.346\n",
      "[4,  8000] loss: 0.668\n",
      "[4,  9000] loss: 0.655\n",
      "[4, 10000] loss: 0.246\n",
      "[4, 11000] loss: 0.362\n",
      "[4, 12000] loss: 0.288\n",
      "[4, 13000] loss: 0.513\n",
      "[4, 14000] loss: 0.350\n",
      "[4, 15000] loss: 0.166\n",
      "[4, 16000] loss: 0.544\n",
      "[4, 17000] loss: 0.460\n",
      "[4, 18000] loss: 0.481\n",
      "[4, 19000] loss: 0.284\n",
      "[4, 20000] loss: 0.592\n",
      "[5,  1000] loss: 0.685\n",
      "[5,  2000] loss: 0.406\n",
      "[5,  3000] loss: 0.148\n",
      "[5,  4000] loss: 0.161\n",
      "[5,  5000] loss: 0.940\n",
      "[5,  6000] loss: 0.396\n",
      "[5,  7000] loss: 0.255\n",
      "[5,  8000] loss: 0.891\n",
      "[5,  9000] loss: 0.423\n",
      "[5, 10000] loss: 0.155\n",
      "[5, 11000] loss: 0.065\n",
      "[5, 12000] loss: 0.435\n",
      "[5, 13000] loss: 0.707\n",
      "[5, 14000] loss: 0.257\n",
      "[5, 15000] loss: 0.542\n",
      "[5, 16000] loss: 0.205\n",
      "[5, 17000] loss: 0.174\n",
      "[5, 18000] loss: 0.138\n",
      "[5, 19000] loss: 0.553\n",
      "[5, 20000] loss: 0.417\n",
      "[6,  1000] loss: 0.072\n",
      "[6,  2000] loss: 0.431\n",
      "[6,  3000] loss: 0.438\n",
      "[6,  4000] loss: 0.098\n",
      "[6,  5000] loss: 0.688\n",
      "[6,  6000] loss: 0.358\n",
      "[6,  7000] loss: 0.331\n",
      "[6,  8000] loss: 0.369\n",
      "[6,  9000] loss: 0.193\n",
      "[6, 10000] loss: 0.178\n",
      "[6, 11000] loss: 0.256\n",
      "[6, 12000] loss: 0.288\n",
      "[6, 13000] loss: 0.164\n",
      "[6, 14000] loss: 1.213\n",
      "[6, 15000] loss: 0.439\n",
      "[6, 16000] loss: 0.178\n",
      "[6, 17000] loss: 0.123\n",
      "[6, 18000] loss: 0.247\n",
      "[6, 19000] loss: 0.290\n",
      "[6, 20000] loss: 0.343\n",
      "[7,  1000] loss: 0.452\n",
      "[7,  2000] loss: 0.878\n",
      "[7,  3000] loss: 0.055\n",
      "[7,  4000] loss: 0.093\n",
      "[7,  5000] loss: 0.100\n",
      "[7,  6000] loss: 1.303\n",
      "[7,  7000] loss: 0.378\n",
      "[7,  8000] loss: 0.242\n",
      "[7,  9000] loss: 0.133\n",
      "[7, 10000] loss: 0.602\n",
      "[7, 11000] loss: 0.083\n",
      "[7, 12000] loss: 0.405\n",
      "[7, 13000] loss: 0.474\n",
      "[7, 14000] loss: 0.330\n",
      "[7, 15000] loss: 0.099\n",
      "[7, 16000] loss: 0.671\n",
      "[7, 17000] loss: 1.453\n",
      "[7, 18000] loss: 0.172\n",
      "[7, 19000] loss: 0.056\n",
      "[7, 20000] loss: 0.698\n",
      "[8,  1000] loss: 0.886\n",
      "[8,  2000] loss: 0.222\n",
      "[8,  3000] loss: 0.066\n",
      "[8,  4000] loss: 0.129\n",
      "[8,  5000] loss: 0.383\n",
      "[8,  6000] loss: 0.178\n",
      "[8,  7000] loss: 0.054\n",
      "[8,  8000] loss: 0.573\n",
      "[8,  9000] loss: 0.113\n",
      "[8, 10000] loss: 0.110\n",
      "[8, 11000] loss: 0.537\n",
      "[8, 12000] loss: 0.586\n",
      "[8, 13000] loss: 0.074\n",
      "[8, 14000] loss: 0.270\n",
      "[8, 15000] loss: 0.091\n",
      "[8, 16000] loss: 0.702\n",
      "[8, 17000] loss: 0.138\n",
      "[8, 18000] loss: 0.171\n",
      "[8, 19000] loss: 0.665\n",
      "[8, 20000] loss: 0.156\n",
      "Finished Training\n"
     ]
    }
   ],
   "source": [
    "from torch import FloatTensor\n",
    "\n",
    "report_samples = 1000\n",
    "\n",
    "for epoch in range(8):  # loop over the dataset multiple times\n",
    "\n",
    "    for i, data in enumerate(train_loader, 0):\n",
    "        \n",
    "        inputs, labels = data\n",
    "        \n",
    "        targets = FloatTensor([[label] for label in labels])\n",
    "        \n",
    "        # wrap in Variable\n",
    "        inputs, targets = Variable(inputs), Variable(targets)\n",
    "\n",
    "        # zero the parameter gradients\n",
    "        optimizer.zero_grad()\n",
    "\n",
    "        # forward + backward + optimize\n",
    "        outputs = model(inputs)\n",
    "\n",
    "        loss = criterion(outputs, targets)\n",
    "        loss.backward()\n",
    "        optimizer.step()\n",
    "        \n",
    "        # print statistics every report_steps\n",
    "        samples_learned = (i + 1) * train_loader.batch_size\n",
    "        if samples_learned % report_samples == 0:   \n",
    "            print('[%d, %5d] loss: %.3f' % (epoch + 1, samples_learned, loss.data[0]))\n",
    "\n",
    "print('Finished Training')"
   ]
  },
  {
   "cell_type": "markdown",
   "metadata": {},
   "source": [
    "Create validation dataset and its loader"
   ]
  },
  {
   "cell_type": "code",
   "execution_count": 10,
   "metadata": {
    "collapsed": true
   },
   "outputs": [],
   "source": [
    "validation_dataset = CatsDogsLabeledDataset(\n",
    "    train_folder,\n",
    "    validation_images,\n",
    "    image_size = (image_size, image_size),\n",
    "    transform = transform)\n",
    "validation_loader = DataLoader(validation_dataset, batch_size=batch_size, shuffle=True, num_workers=2)"
   ]
  },
  {
   "cell_type": "markdown",
   "metadata": {},
   "source": [
    "Validation criterion is LogLoss that is called BCELoss in PyTorch (http://pytorch.org/docs/master/nn.html#bceloss) "
   ]
  },
  {
   "cell_type": "code",
   "execution_count": 11,
   "metadata": {
    "collapsed": true
   },
   "outputs": [],
   "source": [
    "log_loss = nn.BCELoss(size_average=False)"
   ]
  },
  {
   "cell_type": "markdown",
   "metadata": {},
   "source": [
    "Run through validation sample and evaluate classification metric "
   ]
  },
  {
   "cell_type": "code",
   "execution_count": 12,
   "metadata": {},
   "outputs": [
    {
     "name": "stdout",
     "output_type": "stream",
     "text": [
      "Finished Validating. Samples evaluated: 5000, Resulting loss: 0.597\n"
     ]
    }
   ],
   "source": [
    "# 64x64 example conf 2 epoch 0.575\n",
    "# 64x64 example conf 5 epoch 0.527\n",
    "# 64x64 example conf 7 epoch 0.524\n",
    "# 64x64 example conf 8 epoch 0.597\n",
    "# 64x64 example conf 10 epoch 0.738\n",
    "\n",
    "loss_sum = 0.0\n",
    "for i, data in enumerate(validation_loader, 0):\n",
    "    \n",
    "    inputs, labels = data\n",
    "        \n",
    "    targets = FloatTensor([[label] for label in labels])\n",
    "        \n",
    "    # wrap in Variable\n",
    "    inputs, targets = Variable(inputs), Variable(targets)\n",
    "\n",
    "    # get classification and evaluate\n",
    "    outputs = model(inputs)\n",
    "    loss = log_loss(outputs, targets)\n",
    "\n",
    "    # print statistics every report_steps\n",
    "    loss_sum += loss.data[0]\n",
    "\n",
    "samples = len(validation_dataset)\n",
    "loss = loss_sum / samples\n",
    "print('Finished Validating. Samples evaluated: %d, Resulting loss: %.3f' %  (samples, loss))"
   ]
  },
  {
   "cell_type": "markdown",
   "metadata": {},
   "source": [
    "Create DatasetClass to enumerate images for submission"
   ]
  },
  {
   "cell_type": "code",
   "execution_count": null,
   "metadata": {
    "collapsed": true
   },
   "outputs": [],
   "source": [
    "class CatsDogsNumberedDataset(CatsDogsDataset):\n",
    "        \n",
    "    def __init__(self, images_folder, filenames, image_size = None, transform=None):\n",
    "        filenames_sorted = sorted(\n",
    "            filenames,\n",
    "            key = lambda n: int(n.split('.')[0]))\n",
    "        super(CatsDogsNumberedDataset, self).__init__(images_folder, filenames_sorted, image_size, transform)\n",
    "    \n",
    "    def __getitem__(self, indx):\n",
    "        image_name = self.filenames[indx]    \n",
    "        image = self.get_image(image_name)\n",
    "        number = indx + 1\n",
    "        return [image, number]"
   ]
  },
  {
   "cell_type": "code",
   "execution_count": null,
   "metadata": {},
   "outputs": [],
   "source": [
    "submission_folder = \"./test\"\n",
    "submission_images = os.listdir(submission_folder)\n",
    "\n",
    "submission_dataset = CatsDogsNumberedDataset(\n",
    "    submission_folder,\n",
    "    submission_images,\n",
    "    image_size = (image_size, image_size),\n",
    "    transform = transform)\n",
    "submission_loader = DataLoader(submission_dataset, batch_size=batch_size, shuffle=False, num_workers=2)"
   ]
  },
  {
   "cell_type": "markdown",
   "metadata": {},
   "source": [
    "Check a numbering little bit"
   ]
  },
  {
   "cell_type": "code",
   "execution_count": null,
   "metadata": {},
   "outputs": [],
   "source": [
    "for batch, data in enumerate(submission_loader, 0):\n",
    "    if (batch > 20):\n",
    "        break\n",
    "    images, numbers = data\n",
    "    numbers = numbers.numpy()\n",
    "    for offset, number in enumerate(numbers, 1):\n",
    "        expected_number = batch * submission_loader.batch_size + offset\n",
    "        assert expected_number == number, str(expected_number) + \"!=\" + str(number)\n",
    "print (\"numbering is OK\")\n",
    "        \n",
    "image, number = submission_dataset[17]    \n",
    "# to check correct number correctnessmanually\n",
    "imshow(image)\n",
    "print (str(number)+\".jpg\")"
   ]
  },
  {
   "cell_type": "markdown",
   "metadata": {},
   "source": [
    "Create predictions for submission"
   ]
  },
  {
   "cell_type": "code",
   "execution_count": null,
   "metadata": {
    "collapsed": true
   },
   "outputs": [],
   "source": [
    "header = \"id,label\\n\"\n",
    "prediction_format = \"%d,%f\\n\"\n",
    "\n",
    "with open(\"submission3.csv\", \"w\") as file:\n",
    "    file.write(header)\n",
    "    \n",
    "    for data in iter(submission_loader):\n",
    "        inputs, numbers = data\n",
    "        inputs = Variable(inputs)\n",
    "\n",
    "        numbers = numbers.numpy()\n",
    "\n",
    "        # get classification and evaluate\n",
    "        outputs = model(inputs).data.numpy()\n",
    "        \n",
    "        for pair in zip(numbers, outputs):\n",
    "            line = \"%d,%f\\n\" % pair\n",
    "            file.write(line)\n",
    "print (\"Done.\")"
   ]
  },
  {
   "cell_type": "code",
   "execution_count": null,
   "metadata": {
    "collapsed": true
   },
   "outputs": [],
   "source": []
  }
 ],
 "metadata": {
  "kernelspec": {
   "display_name": "Python 3",
   "language": "python",
   "name": "python3"
  },
  "language_info": {
   "codemirror_mode": {
    "name": "ipython",
    "version": 3
   },
   "file_extension": ".py",
   "mimetype": "text/x-python",
   "name": "python",
   "nbconvert_exporter": "python",
   "pygments_lexer": "ipython3",
   "version": "3.6.3"
  }
 },
 "nbformat": 4,
 "nbformat_minor": 2
}
