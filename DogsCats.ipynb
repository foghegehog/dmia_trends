{
 "cells": [
  {
   "cell_type": "markdown",
   "metadata": {},
   "source": [
    "## A model distinguishing images with dogs from images with cats.\n",
    "###### Completed as homework for Data Mining In Action free course (https://vk.com/data_mining_in_action), \"Trends\" direction, spring 2018\n",
    "###### Dataset is taken from Kaggle competition (https://www.kaggle.com/c/dogs-vs-cats-redux-kernels-edition)\n",
    "###### PyTorch (http://pytorch.org/) is used as Deep Learning framework"
   ]
  },
  {
   "cell_type": "markdown",
   "metadata": {},
   "source": [
    "Create Dataset class inheritor to load data the way PyTorch examples do (http://pytorch.org/tutorials/beginner/data_loading_tutorial.html#dataset-class) "
   ]
  },
  {
   "cell_type": "code",
   "execution_count": 1,
   "metadata": {
    "collapsed": true
   },
   "outputs": [],
   "source": [
    "from torch.utils.data import Dataset\n",
    "from PIL import Image\n",
    "\n",
    "class CatsDogsDataset(Dataset):\n",
    "    \n",
    "    def __init__(self, images_folder, filenames, image_size = None, transform=None):\n",
    "        self.images_folder = images_folder\n",
    "        self.filenames = filenames\n",
    "        self.image_size = image_size\n",
    "        self.transform = transform \n",
    "        \n",
    "    def __len__(self):\n",
    "        return len(self.filenames)\n",
    "    \n",
    "    def get_image(self, image_name):\n",
    "        image_path = os.path.join(self.images_folder, image_name)\n",
    "        image = Image.open(image_path)\n",
    "        \n",
    "        if (self.image_size):\n",
    "            image = image.resize(self.image_size)\n",
    "        \n",
    "        if (self.transform):\n",
    "            image = self.transform(image)\n",
    "            \n",
    "        return image"
   ]
  },
  {
   "cell_type": "code",
   "execution_count": 2,
   "metadata": {
    "collapsed": true
   },
   "outputs": [],
   "source": [
    "class CatsDogsLabeledDataset(CatsDogsDataset):\n",
    "    \n",
    "    def __init__(self, images_folder, filenames, image_size = None, transform=None):\n",
    "        super(CatsDogsLabeledDataset, self).__init__(images_folder, filenames, image_size, transform)\n",
    "    \n",
    "    @staticmethod\n",
    "    def is_dog(image_name):\n",
    "        return image_name.lower().startswith(\"dog.\")\n",
    "    \n",
    "    def __getitem__(self, indx):\n",
    "        image_name = self.filenames[indx]    \n",
    "        image = self.get_image(image_name)\n",
    "        label = int(CatsDogsLabeledDataset.is_dog(image_name))\n",
    "        \n",
    "        return [image, label]"
   ]
  },
  {
   "cell_type": "markdown",
   "metadata": {},
   "source": [
    "Split images in train folder into two datasets for model training and its validation"
   ]
  },
  {
   "cell_type": "code",
   "execution_count": 3,
   "metadata": {
    "collapsed": true
   },
   "outputs": [],
   "source": [
    "import os \n",
    "from random import shuffle\n",
    "\n",
    "train_folder = \"./train\"\n",
    "validation_dataset_size = 5000\n",
    "\n",
    "images = os.listdir(train_folder)\n",
    "\n",
    "shuffle(images)\n",
    "train_images = images[:-validation_dataset_size]\n",
    "validation_images = images[-validation_dataset_size:]"
   ]
  },
  {
   "cell_type": "markdown",
   "metadata": {},
   "source": [
    "Data transforms for neural network usage"
   ]
  },
  {
   "cell_type": "code",
   "execution_count": 4,
   "metadata": {
    "collapsed": true
   },
   "outputs": [],
   "source": [
    "import torchvision.transforms as transforms\n",
    "from torch.utils.data import DataLoader\n",
    "\n",
    "image_size = 64\n",
    "\n",
    "transform = transforms.Compose(\n",
    "    [transforms.ToTensor(),\n",
    "     transforms.Normalize((0.5, 0.5, 0.5), (0.5, 0.5, 0.5))])"
   ]
  },
  {
   "cell_type": "markdown",
   "metadata": {},
   "source": [
    "Create train dataset and loader for it"
   ]
  },
  {
   "cell_type": "code",
   "execution_count": 5,
   "metadata": {
    "collapsed": true
   },
   "outputs": [],
   "source": [
    "batch_size = 4\n",
    "\n",
    "train_dataset = CatsDogsLabeledDataset(\n",
    "    train_folder,\n",
    "    train_images,\n",
    "    image_size = (image_size, image_size),\n",
    "    transform = transform)\n",
    "train_loader = DataLoader(train_dataset, batch_size=batch_size, shuffle=True, num_workers=2)"
   ]
  },
  {
   "cell_type": "markdown",
   "metadata": {},
   "source": [
    "Check correct loading and transforms"
   ]
  },
  {
   "cell_type": "code",
   "execution_count": 43,
   "metadata": {},
   "outputs": [
    {
     "name": "stdout",
     "output_type": "stream",
     "text": [
      "Cat\n",
      "image shape: torch.Size([3, 64, 64])\n"
     ]
    },
    {
     "data": {
      "image/png": "[encoded data removed]",
      "text/plain": [
       "<matplotlib.figure.Figure at 0x7fa360491cc0>"
      ]
     },
     "metadata": {},
     "output_type": "display_data"
    }
   ],
   "source": [
    "import matplotlib.pyplot as plt\n",
    "import numpy as np\n",
    "import torch\n",
    "\n",
    "%matplotlib inline\n",
    "\n",
    "# functions to show an image\n",
    "def imshow(img):\n",
    "    img = img / 2 + 0.5     # unnormalize\n",
    "    npimg = img.numpy()\n",
    "    img = np.transpose(npimg, (1, 2, 0))\n",
    "    plt.imshow(img)\n",
    "\n",
    "\n",
    "dataiter = iter(train_loader)\n",
    "images, labels = dataiter.next()\n",
    "image = images[0]\n",
    "label = labels[0]\n",
    "\n",
    "# show image\n",
    "imshow(image)\n",
    "print ([\"Cat\", \"Dog\"][label])\n",
    "print (\"image shape:\", image.size())"
   ]
  },
  {
   "cell_type": "markdown",
   "metadata": {
    "collapsed": true
   },
   "source": [
    "Declare convolution neural network similar to the PyTorch tutorial (http://pytorch.org/tutorials/beginner/blitz/cifar10_tutorial.html#define-a-convolution-neural-network)"
   ]
  },
  {
   "cell_type": "code",
   "execution_count": null,
   "metadata": {
    "collapsed": true
   },
   "outputs": [],
   "source": [
    "'''from torch.autograd import Variable\n",
    "import torch.nn as nn\n",
    "from torch.nn import functional\n",
    "\n",
    "color_channels = 3\n",
    "kernel_size = 9\n",
    "kernel_size = 3\n",
    "pool_window = 2\n",
    "\n",
    "class TutorialCNN(nn.Module):\n",
    "    def __init__(self):\n",
    "        super(TutorialCNN, self).__init__()\n",
    "        self.activation = functional.relu\n",
    "        self.conv1 = nn.Conv2d(color_channels, 6, kernel_size)\n",
    "        self.max_pool = nn.MaxPool2d(pool_window, pool_window)\n",
    "        self.conv2 = nn.Conv2d(self.conv1.out_channels, 32, kernel_size)\n",
    "        self.linear_in_features = self.conv2.out_channels * 10 * 10\n",
    "        self.fc1 = nn.Linear(self.linear_in_features, 120)\n",
    "        self.fc2 = nn.Linear(self.fc1.out_features, 84)\n",
    "        self.fc3 = nn.Linear(self.fc2.out_features, 1)\n",
    "\n",
    "    def forward(self, x):\n",
    "        layer_output = self.activation(self.conv1(x))\n",
    "        layer_output = self.max_pool(layer_output)\n",
    "        layer_output = self.activation(self.conv2(layer_output))\n",
    "        layer_output = self.max_pool(layer_output)\n",
    "        layer_output = layer_output.view(-1, self.linear_in_features)\n",
    "        layer_output = self.activation(self.fc1(layer_output))\n",
    "        layer_output = self.activation(self.fc2(layer_output))\n",
    "        layer_output = self.fc3(layer_output)\n",
    "\n",
    "        # Values from interval [0,1] are needed as answer\n",
    "        layer_output = functional.sigmoid(layer_output)\n",
    "        return layer_output\n",
    "\n",
    "model = TutorialCNN()\n",
    " '''"
   ]
  },
  {
   "cell_type": "markdown",
   "metadata": {},
   "source": [
    "Declare convolution neural network similar to DogsAndCats samples spred out in the internet (like here: http://www.subsubroutine.com/sub-subroutine/2016/9/30/cats-and-dogs-and-convolutional-neural-networks)   "
   ]
  },
  {
   "cell_type": "code",
   "execution_count": null,
   "metadata": {
    "collapsed": true
   },
   "outputs": [],
   "source": [
    "from torch.autograd import Variable\n",
    "import torch.nn as nn\n",
    "from torch.nn import functional\n",
    "\n",
    "color_channels = 3\n",
    "kernel_size = 3\n",
    "pool_window = 2\n",
    "\n",
    "class WithDropoutCNN(nn.Module):\n",
    "    def __init__(self):\n",
    "        super(WithDropoutCNN, self).__init__()\n",
    "        self.conv32 = nn.Conv2d(color_channels, 32, kernel_size)\n",
    "        \n",
    "        self.conv64_1 = nn.Conv2d(self.conv32.out_channels, 64, kernel_size)\n",
    "        self.conv64_2 = nn.Conv2d(self.conv64_1.out_channels, 64, kernel_size)\n",
    "        \n",
    "        self.max_pool = nn.MaxPool2d(pool_window, pool_window)\n",
    "        \n",
    "        self.linear_in_features = self.conv64_2.out_channels * 13 * 13\n",
    "        self.fully_conected = nn.Linear(self.linear_in_features, 512)\n",
    "        \n",
    "        self.dropout = nn.Dropout(p=0.5)\n",
    "        self.output = nn.Linear(self.fully_conected.out_features, 1)\n",
    "        \n",
    "        self.relu = functional.relu\n",
    "        \n",
    "        # Values from interval [0,1] are needed as answer\n",
    "        self.sigmoid = functional.sigmoid\n",
    "\n",
    "    def forward(self, x):\n",
    "        layer_output = self.relu(self.conv32(x))\n",
    "        layer_output = self.max_pool(layer_output)\n",
    "        \n",
    "        layer_output = self.relu(self.conv64_1(layer_output))\n",
    "        layer_output = self.relu(self.conv64_2(layer_output))\n",
    "        layer_output = self.max_pool(layer_output)\n",
    "        \n",
    "        layer_output = layer_output.view(-1, self.linear_in_features)\n",
    "        \n",
    "        layer_output = self.relu(self.fully_conected(layer_output))\n",
    "        layer_output = self.dropout(layer_output)\n",
    "        \n",
    "        layer_output = self.sigmoid(self.output(layer_output))\n",
    "        return layer_output"
   ]
  },
  {
   "cell_type": "code",
   "execution_count": null,
   "metadata": {},
   "outputs": [],
   "source": [
    "model = WithDropoutCNN()"
   ]
  },
  {
   "cell_type": "markdown",
   "metadata": {},
   "source": [
    "It looks like LogLoss function is called BCELoss in PyTorch (http://pytorch.org/docs/master/nn.html#bceloss) <br/>\n",
    "Used SGD with momentum optimizer, as in the tutorial"
   ]
  },
  {
   "cell_type": "code",
   "execution_count": null,
   "metadata": {
    "collapsed": true
   },
   "outputs": [],
   "source": [
    "import torch.optim as optim\n",
    "\n",
    "criterion = nn.BCELoss(size_average=True)\n",
    "optimizer = optim.SGD(model.parameters(), lr=0.001, momentum=0.9)"
   ]
  },
  {
   "cell_type": "markdown",
   "metadata": {},
   "source": [
    "Train the network"
   ]
  },
  {
   "cell_type": "code",
   "execution_count": null,
   "metadata": {},
   "outputs": [],
   "source": [
    "from torch import FloatTensor\n",
    "\n",
    "report_samples = 1000\n",
    "\n",
    "for epoch in range(5):  # loop over the dataset multiple times\n",
    "\n",
    "    for i, data in enumerate(train_loader, 0):\n",
    "        \n",
    "        inputs, labels = data\n",
    "        \n",
    "        targets = FloatTensor([[label] for label in labels])\n",
    "        \n",
    "        # wrap in Variable\n",
    "        inputs, targets = Variable(inputs), Variable(targets)\n",
    "\n",
    "        # zero the parameter gradients\n",
    "        optimizer.zero_grad()\n",
    "\n",
    "        # forward + backward + optimize\n",
    "        outputs = model(inputs)\n",
    "\n",
    "        loss = criterion(outputs, targets)\n",
    "        loss.backward()\n",
    "        optimizer.step()\n",
    "        \n",
    "        # print statistics every report_steps\n",
    "        samples_learned = (i + 1) * train_loader.batch_size\n",
    "        if samples_learned % report_samples == 0:   \n",
    "            print('[%d, %5d] loss: %.3f' % (epoch + 1, samples_learned, loss.data[0]))\n",
    "\n",
    "print('Finished Training')"
   ]
  },
  {
   "cell_type": "markdown",
   "metadata": {},
   "source": [
    "Create validation dataset and its loader"
   ]
  },
  {
   "cell_type": "code",
   "execution_count": null,
   "metadata": {
    "collapsed": true
   },
   "outputs": [],
   "source": [
    "validation_dataset = CatsDogsLabeledDataset(\n",
    "    train_folder,\n",
    "    validation_images,\n",
    "    image_size = (image_size, image_size),\n",
    "    transform = transform)\n",
    "validation_loader = DataLoader(validation_dataset, batch_size=batch_size, shuffle=True, num_workers=2)"
   ]
  },
  {
   "cell_type": "markdown",
   "metadata": {},
   "source": [
    "Validation criterion is LogLoss that is called BCELoss in PyTorch (http://pytorch.org/docs/master/nn.html#bceloss) "
   ]
  },
  {
   "cell_type": "code",
   "execution_count": null,
   "metadata": {
    "collapsed": true
   },
   "outputs": [],
   "source": [
    "log_loss = nn.BCELoss(size_average=False)"
   ]
  },
  {
   "cell_type": "markdown",
   "metadata": {},
   "source": [
    "Run through validation sample and evaluate classification metric "
   ]
  },
  {
   "cell_type": "code",
   "execution_count": null,
   "metadata": {},
   "outputs": [],
   "source": [
    "# TutoriaCNN epoch 2  0.575\n",
    "# TutoriaCNN epoch 5  0.527\n",
    "# TutoriaCNN epoch 7  0.524\n",
    "# TutoriaCNN epoch 8  0.597\n",
    "# TutoriaCNN epoch 10 0.738\n",
    "# WithDropoutCNN epoch 1 0.611\n",
    "# WithDropoutCNN epoch 5 0.419\n",
    "# WithDropoutCNN epoch 10 0.492\n",
    "\n",
    "loss_sum = 0.0\n",
    "for i, data in enumerate(validation_loader, 0):\n",
    "    \n",
    "    inputs, labels = data\n",
    "        \n",
    "    targets = FloatTensor([[label] for label in labels])\n",
    "        \n",
    "    # wrap in Variable\n",
    "    inputs, targets = Variable(inputs), Variable(targets)\n",
    "\n",
    "    # get classification and evaluate\n",
    "    outputs = model(inputs)\n",
    "    loss = log_loss(outputs, targets)\n",
    "\n",
    "    # print statistics every report_steps\n",
    "    loss_sum += loss.data[0]\n",
    "\n",
    "samples = len(validation_dataset)\n",
    "loss = loss_sum / samples\n",
    "print('Finished Validating. Samples evaluated: %d, Resulting loss: %.3f' %  (samples, loss))"
   ]
  },
  {
   "cell_type": "markdown",
   "metadata": {},
   "source": [
    "Create DatasetClass to enumerate images for submission"
   ]
  },
  {
   "cell_type": "code",
   "execution_count": 44,
   "metadata": {
    "collapsed": true
   },
   "outputs": [],
   "source": [
    "class CatsDogsNumberedDataset(CatsDogsDataset):\n",
    "        \n",
    "    def __init__(self, images_folder, filenames, image_size = None, transform=None):\n",
    "        filenames_sorted = sorted(\n",
    "            filenames,\n",
    "            key = lambda n: int(n.split('.')[0]))\n",
    "        super(CatsDogsNumberedDataset, self).__init__(images_folder, filenames_sorted, image_size, transform)\n",
    "    \n",
    "    def __getitem__(self, indx):\n",
    "        image_name = self.filenames[indx]    \n",
    "        image = self.get_image(image_name)\n",
    "        number = indx + 1\n",
    "        return [image, number]"
   ]
  },
  {
   "cell_type": "code",
   "execution_count": 45,
   "metadata": {
    "collapsed": true
   },
   "outputs": [],
   "source": [
    "submission_folder = \"./test\"\n",
    "submission_images = os.listdir(submission_folder)\n",
    "\n",
    "submission_dataset = CatsDogsNumberedDataset(\n",
    "    submission_folder,\n",
    "    submission_images,\n",
    "    image_size = (image_size, image_size),\n",
    "    transform = transform)\n",
    "submission_loader = DataLoader(submission_dataset, batch_size=batch_size, shuffle=False, num_workers=2)"
   ]
  },
  {
   "cell_type": "markdown",
   "metadata": {},
   "source": [
    "Check a numbering little bit"
   ]
  },
  {
   "cell_type": "code",
   "execution_count": 46,
   "metadata": {},
   "outputs": [
    {
     "name": "stdout",
     "output_type": "stream",
     "text": [
      "numbering is OK\n",
      "18.jpg\n"
     ]
    },
    {
     "data": {
      "image/png": "[encoded data removed]",
      "text/plain": [
       "<matplotlib.figure.Figure at 0x7fa3603a7a90>"
      ]
     },
     "metadata": {},
     "output_type": "display_data"
    }
   ],
   "source": [
    "for batch, data in enumerate(submission_loader, 0):\n",
    "    if (batch > 20):\n",
    "        break\n",
    "    images, numbers = data\n",
    "    numbers = numbers.numpy()\n",
    "    for offset, number in enumerate(numbers, 1):\n",
    "        expected_number = batch * submission_loader.batch_size + offset\n",
    "        assert expected_number == number, str(expected_number) + \"!=\" + str(number)\n",
    "print (\"numbering is OK\")\n",
    "        \n",
    "image, number = submission_dataset[17]    \n",
    "# to check correct number correctnessmanually\n",
    "imshow(image)\n",
    "print (str(number)+\".jpg\")"
   ]
  },
  {
   "cell_type": "markdown",
   "metadata": {},
   "source": [
    "Create predictions for submission"
   ]
  },
  {
   "cell_type": "code",
   "execution_count": null,
   "metadata": {},
   "outputs": [],
   "source": [
    "header = \"id,label\\n\"\n",
    "prediction_format = \"%d,%f\\n\"\n",
    "\n",
    "with open(\"submission4.csv\", \"w\") as file:\n",
    "    file.write(header)\n",
    "    \n",
    "    for data in iter(submission_loader):\n",
    "        inputs, numbers = data\n",
    "        inputs = Variable(inputs)\n",
    "\n",
    "        numbers = numbers.numpy()\n",
    "\n",
    "        # get classification and evaluate\n",
    "        outputs = model(inputs).data.numpy()\n",
    "        \n",
    "        for pair in zip(numbers, outputs):\n",
    "            line = \"%d,%f\\n\" % pair\n",
    "            file.write(line)\n",
    "print (\"Done.\")"
   ]
  },
  {
   "cell_type": "code",
   "execution_count": null,
   "metadata": {
    "collapsed": true
   },
   "outputs": [],
   "source": []
  }
 ],
 "metadata": {
  "kernelspec": {
   "display_name": "Python 3",
   "language": "python",
   "name": "python3"
  },
  "language_info": {
   "codemirror_mode": {
    "name": "ipython",
    "version": 3
   },
   "file_extension": ".py",
   "mimetype": "text/x-python",
   "name": "python",
   "nbconvert_exporter": "python",
   "pygments_lexer": "ipython3",
   "version": "3.6.3"
  }
 },
 "nbformat": 4,
 "nbformat_minor": 2
}
